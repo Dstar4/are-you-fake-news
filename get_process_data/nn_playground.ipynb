{
 "cells": [
  {
   "cell_type": "code",
   "execution_count": null,
   "metadata": {},
   "outputs": [],
   "source": []
  },
  {
   "cell_type": "code",
   "execution_count": 374,
   "metadata": {},
   "outputs": [],
   "source": [
    "import keras\n",
    "from keras.models import Sequential\n",
    "from keras.layers import Dense, Dropout, Activation\n",
    "from vectorizer_nn import vectorize_article\n",
    "from keras.models import load_model\n",
    "from itertools import islice\n",
    "import numpy as np\n",
    "from keras.utils.np_utils import to_categorical"
   ]
  },
  {
   "cell_type": "code",
   "execution_count": 363,
   "metadata": {},
   "outputs": [],
   "source": [
    "articles = list(islice(vectorize_article(),4000))"
   ]
  },
  {
   "cell_type": "code",
   "execution_count": 364,
   "metadata": {},
   "outputs": [],
   "source": [
    "y,X = list(zip(*articles))\n",
    "\n",
    "labels = {name:i for i, name in enumerate(set(y))}\n",
    "\n",
    "X = np.array([_.todense().sum(axis=0).flatten().T for _ in X]).squeeze()\n",
    "\n",
    "y = [labels[n] for n in y]\n",
    "n_classes = len(set(y)) \n",
    "\n",
    "\n",
    "y = to_categorical(y)"
   ]
  },
  {
   "cell_type": "code",
   "execution_count": 375,
   "metadata": {},
   "outputs": [
    {
     "name": "stdout",
     "output_type": "stream",
     "text": [
      "Unable to open file (Unable to open file: name = 'test_model.h5', errno = 2, error message = 'no such file or directory', flags = 0, o_flags = 0)\n"
     ]
    }
   ],
   "source": [
    "def define_model():\n",
    "    try: \n",
    "        return load_model('test_model.h5')\n",
    "    except Exception as e:\n",
    "        print(e)\n",
    "    model = Sequential()\n",
    "    model.add(Dense(512, input_shape=(10000,)))\n",
    "    model.add(Activation('relu'))\n",
    "    model.add(Dropout(0.5))\n",
    "    model.add(Dense(n_classes,))\n",
    "    model.add(Activation('softmax'))\n",
    "    \n",
    "    return model\n",
    "model = define_model()"
   ]
  },
  {
   "cell_type": "code",
   "execution_count": 371,
   "metadata": {},
   "outputs": [],
   "source": [
    "y_train= y[:-50]\n",
    "x_train = X[:-50]\n",
    "y_test = y[-50:]\n",
    "x_test = X[-50:]\n"
   ]
  },
  {
   "cell_type": "code",
   "execution_count": null,
   "metadata": {},
   "outputs": [
    {
     "name": "stdout",
     "output_type": "stream",
     "text": [
      "Train on 3555 samples, validate on 395 samples\n",
      "Epoch 1/10\n",
      "3555/3555 [==============================] - 12s - loss: 0.3909 - acc: 0.8551 - val_loss: 0.1225 - val_acc: 1.0000\n",
      "Epoch 2/10\n",
      "3555/3555 [==============================] - 12s - loss: 0.2193 - acc: 0.9038 - val_loss: 0.0942 - val_acc: 0.9823\n",
      "Epoch 3/10\n",
      "3555/3555 [==============================] - 13s - loss: 0.1166 - acc: 0.9519 - val_loss: 0.0798 - val_acc: 0.9747\n",
      "Epoch 4/10\n",
      "3555/3555 [==============================] - 14s - loss: 0.0515 - acc: 0.9848 - val_loss: 0.0797 - val_acc: 0.9671\n",
      "Epoch 5/10\n",
      "3555/3555 [==============================] - 13s - loss: 0.0239 - acc: 0.9949 - val_loss: 0.0733 - val_acc: 0.9671\n",
      "Epoch 6/10\n",
      "3555/3555 [==============================] - 15s - loss: 0.0124 - acc: 0.9975 - val_loss: 0.0796 - val_acc: 0.9620\n",
      "Epoch 7/10\n",
      "3555/3555 [==============================] - 15s - loss: 0.0089 - acc: 0.9972 - val_loss: 0.0685 - val_acc: 0.9696\n",
      "Epoch 8/10\n",
      "3555/3555 [==============================] - 14s - loss: 0.0073 - acc: 0.9983 - val_loss: 0.0811 - val_acc: 0.9620\n",
      "Epoch 9/10\n",
      "2250/3555 [=================>............] - ETA: 5s - loss: 0.0044 - acc: 0.9987"
     ]
    }
   ],
   "source": [
    "model.compile(loss='categorical_crossentropy', optimizer='adam', metrics=['accuracy'])\n",
    "history = model.fit(\n",
    "        x_train, y_train, batch_size=30, epochs=10, verbose=1, validation_split=0.1)\n",
    "score = model.evaluate(x_test, y_test, batch_size=batch_size, verbose=1)\n",
    "model.save('test_model.h5')"
   ]
  },
  {
   "cell_type": "code",
   "execution_count": null,
   "metadata": {},
   "outputs": [],
   "source": []
  }
 ],
 "metadata": {
  "kernelspec": {
   "display_name": "Python 3",
   "language": "python",
   "name": "python3"
  },
  "language_info": {
   "codemirror_mode": {
    "name": "ipython",
    "version": 3
   },
   "file_extension": ".py",
   "mimetype": "text/x-python",
   "name": "python",
   "nbconvert_exporter": "python",
   "pygments_lexer": "ipython3",
   "version": "3.5.2"
  }
 },
 "nbformat": 4,
 "nbformat_minor": 2
}
